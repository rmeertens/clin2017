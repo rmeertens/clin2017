{
 "cells": [
  {
   "cell_type": "code",
   "execution_count": 2,
   "metadata": {
    "collapsed": false
   },
   "outputs": [
    {
     "name": "stdout",
     "output_type": "stream",
     "text": [
      "/home/roland/clinworkspace\n",
      "32235\n",
      "32235\n"
     ]
    },
    {
     "data": {
      "text/plain": [
       "0.5884886121089647"
      ]
     },
     "execution_count": 2,
     "metadata": {},
     "output_type": "execute_result"
    }
   ],
   "source": [
    "import nltk\n",
    "from nltk.translate.bleu_score import corpus_bleu\n",
    "import os\n",
    "cwd = os.getcwd()\n",
    "print(cwd)\n",
    "def get_lines_from_tok_file(name):\n",
    "    list_of_references = []\n",
    "    with open(name) as reference_file:\n",
    "        for line in reference_file:\n",
    "            list_of_references.append(line.split())\n",
    "    return list_of_references\n",
    "\n",
    "test_references = get_lines_from_tok_file('clin2017/test.1888.tok')\n",
    "train_references = get_lines_from_tok_file('clin2017/train.1888.tok')\n",
    "test_references = [[a] for a in test_references]\n",
    "train_references = [[a] for a in train_references]\n",
    "\n",
    "# print(test_references)\n",
    "# print(test_hyp)\n",
    "train_hyp = get_lines_from_tok_file('clin2017/train.1637.translated.tok')\n",
    "test_hyp = get_lines_from_tok_file('clin2017/test.1637.translated.tok')\n",
    "# #[[ref1a, ref1b, ref1c], [ref2a]]\n",
    "# testhypotheses = [] #[hyp1, hyp2]\n",
    "# with open('clin2017/test.1637.translated.tok') as reference_file:\n",
    "#     for line in reference_file:\n",
    "#         testhypotheses.append(line.split())\n",
    "# #print(hypotheses)\n",
    "corpus_bleu(test_references,test_hyp) \n",
    "print(len(train_references))\n",
    "print(len(train_hyp))\n",
    "corpus_bleu(train_references,train_hyp) \n"
   ]
  },
  {
   "cell_type": "code",
   "execution_count": 19,
   "metadata": {
    "collapsed": false
   },
   "outputs": [
    {
     "data": {
      "text/plain": [
       "0.6272274999036005"
      ]
     },
     "execution_count": 19,
     "metadata": {},
     "output_type": "execute_result"
    }
   ],
   "source": [
    "new_train_hypotheses = []\n",
    "\n",
    "def simple_replace(word):\n",
    "    \n",
    "    if word == \"]\" or word== \"[\":\n",
    "        return None\n",
    "    if word == \"INDEN\":\n",
    "        return \"In den\"\n",
    "    if word == \"sijnen\":\n",
    "        return \"zijn\"\n",
    "    if word == \"oproers\":\n",
    "        return \"oproer\"\n",
    "    if word == \"Dach\":\n",
    "        return \"dag\"\n",
    "    #word = word.replace(\"ae\",\"aa\")\n",
    "    word = word.replace(\"y\",\"ij\")\n",
    "    \n",
    "    if \"'\" in word:\n",
    "        #print(\"hoi\")\n",
    "        parts = word.split(\"'\")\n",
    "        return parts[0] + \" het\"\n",
    "    return word\n",
    "\n",
    "max_to_check = 1000\n",
    "\n",
    "for reference in train_hyp[:max_to_check]:\n",
    "    newest_hyp = []\n",
    "    for a in reference:\n",
    "        rept = simple_replace(a)\n",
    "        if rept != None:\n",
    "            rept = rept.split()\n",
    "            #print(rept)\n",
    "            newest_hyp.extend(rept)\n",
    "    new_train_hypotheses.append(newest_hyp)\n",
    "    #new_train_hypotheses.append([simple_replace(a) for a in reference if simple_replace(a) != None])\n",
    "\n",
    "#print(len(train_references))\n",
    "#print(len(new_train_hypotheses))\n",
    "# print(new_train_hypotheses[:10])\n",
    "# print(\"----\")\n",
    "# print(train_references[:10])\n",
    "corpus_bleu(train_references[:max_to_check],new_train_hypotheses[:max_to_check]) "
   ]
  },
  {
   "cell_type": "code",
   "execution_count": 13,
   "metadata": {
    "collapsed": false
   },
   "outputs": [
    {
     "data": {
      "text/plain": [
       "0.508264774385643"
      ]
     },
     "execution_count": 13,
     "metadata": {},
     "output_type": "execute_result"
    }
   ],
   "source": []
  }
 ],
 "metadata": {
  "kernelspec": {
   "display_name": "Python 3",
   "language": "python",
   "name": "python3"
  },
  "language_info": {
   "codemirror_mode": {
    "name": "ipython",
    "version": 3
   },
   "file_extension": ".py",
   "mimetype": "text/x-python",
   "name": "python",
   "nbconvert_exporter": "python",
   "pygments_lexer": "ipython3",
   "version": "3.4.3"
  }
 },
 "nbformat": 4,
 "nbformat_minor": 2
}
