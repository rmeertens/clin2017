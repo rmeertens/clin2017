{
 "cells": [
  {
   "cell_type": "code",
   "execution_count": 10,
   "metadata": {
    "collapsed": false
   },
   "outputs": [
    {
     "data": {
      "text/plain": [
       "0.508264774385643"
      ]
     },
     "execution_count": 10,
     "metadata": {},
     "output_type": "execute_result"
    }
   ],
   "source": [
    "import nltk\n",
    "from nltk.translate.bleu_score import corpus_bleu\n",
    "\n",
    "list_of_references = []\n",
    "with open('clin2017/test.1888.tok') as reference_file:\n",
    "    for line in reference_file:\n",
    "        list_of_references.append([line.split()])\n",
    "\n",
    "\n",
    "#[[ref1a, ref1b, ref1c], [ref2a]]\n",
    "hypotheses = [] #[hyp1, hyp2]\n",
    "with open('clin2017/test.1637.translated.tok') as reference_file:\n",
    "    for line in reference_file:\n",
    "        hypotheses.append(line.split())\n",
    "#print(hypotheses)\n",
    "corpus_bleu(list_of_references, hypotheses) "
   ]
  },
  {
   "cell_type": "code",
   "execution_count": null,
   "metadata": {
    "collapsed": true
   },
   "outputs": [],
   "source": []
  }
 ],
 "metadata": {
  "kernelspec": {
   "display_name": "Python 3",
   "language": "python",
   "name": "python3"
  },
  "language_info": {
   "codemirror_mode": {
    "name": "ipython",
    "version": 3
   },
   "file_extension": ".py",
   "mimetype": "text/x-python",
   "name": "python",
   "nbconvert_exporter": "python",
   "pygments_lexer": "ipython3",
   "version": "3.4.3"
  }
 },
 "nbformat": 4,
 "nbformat_minor": 2
}
